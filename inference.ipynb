{
 "cells": [
  {
   "attachments": {},
   "cell_type": "markdown",
   "metadata": {},
   "source": [
    "## RUNNING INFERENCE"
   ]
  },
  {
   "cell_type": "code",
   "execution_count": 1,
   "metadata": {},
   "outputs": [],
   "source": [
    "%matplotlib inline\n",
    "\n",
    "from torch.optim import Adam\n",
    "import torch\n",
    "from code.model import UNetWrapper\n"
   ]
  },
  {
   "cell_type": "code",
   "execution_count": null,
   "metadata": {},
   "outputs": [],
   "source": [
    "device = torch.device(\"cpu\")\n",
    "\n",
    "model = UNetWrapper(\n",
    "    out_channels=1, \n",
    "    in_channels=1,\n",
    ")\n",
    "\n",
    "model = model.to(device)\n",
    "PATH=\"TFM_FINAL_3D\\\\data-unversioned\\\\models\\\\p2ch13\\\\seg_2023-06-11_18.04.40_final_seg.8008.state\"\n",
    "checkpoint = torch.load(PATH)\n",
    "model.load_state_dict(checkpoint['model_state'])\n",
    "\n",
    "model.eval()\n"
   ]
  },
  {
   "cell_type": "code",
   "execution_count": null,
   "metadata": {},
   "outputs": [],
   "source": [
    "import glob\n",
    "import os\n",
    "import nibabel as nib\n",
    "from scipy import ndimage\n",
    "import numpy as np\n",
    "\n",
    "def xyz2zxy(X):\n",
    "    return np.transpose(X, (2, 0, 1))\n",
    "\n",
    "path = \"Here gpoes you input folder containing teh files\"\n",
    "mean_dice=0\n",
    "for file in os.listdir(path):\n",
    "    nii_path = glob.glob(\n",
    "        f\"{path}\\\\{file}\\\\TOF_{file}_0000.nii.gz\"\n",
    "    )\n",
    "    mra_nii = nib.load(nii_path[0])\n",
    "    mra_a = np.array(mra_nii.get_fdata(), dtype=np.float32) \n",
    "    mra_a=xyz2zxy(mra_a)\n",
    "\n",
    "    nii_path = glob.glob(\n",
    "        f\"{path}\\\\{file}\\\\TOF_{file}.nii.gz\"\n",
    "    )\n",
    "    mra_nii = nib.load(nii_path[0])\n",
    "    pos_a = np.array(mra_nii.get_fdata(), dtype=np.float32) \n",
    "    pos_a=xyz2zxy(pos_a)\n",
    "\n",
    "    lbl = ndimage.label(pos_a)[0]\n",
    "    labels = list(np.unique(lbl))\n",
    "    labels = [x for x in range(1,len(labels))]\n",
    "    center_of_mass = ndimage.center_of_mass(pos_a, lbl,[labels])\n",
    "\n",
    "    pred = np.zeros(mra_a.shape)\n",
    "    for element in center_of_mass:\n",
    "        if mra_a[int(element[0][0]),int(element[0][1]),int(element[0][2])]>0.306*np.max(mra_a):\n",
    "            z_min=int(element[0][0])-8\n",
    "            z_max=int(element[0][0])+8\n",
    "            x_min=int(element[0][1])-32\n",
    "            x_max=int(element[0][1])+32\n",
    "            y_min=int(element[0][2])-32\n",
    "            y_max=int(element[0][2])+32\n",
    "\n",
    "            z_min = max([z_min, 0]) if max([element[0][0] - 8, 0]) == 0 else z_min\n",
    "            z_max = min([z_max, pos_a.shape[0]]) if min([element[0][0] + 8, pos_a.shape[0]]) == pos_a.shape[0] else z_max\n",
    "            x_min = max([x_min, 0]) if max([element[0][1] - 32, 0]) == 0 else x_min\n",
    "            x_max = min([x_max, pos_a.shape[1]]) if min([element[0][1] + 32, pos_a.shape[1]]) == pos_a.shape[1] else x_max\n",
    "            y_min = max([y_min, 0]) if max([element[0][2] - 32, 0]) == 0 else y_min\n",
    "            y_max = min([y_max, pos_a.shape[2]]) if min([element[0][2] + 32, pos_a.shape[2]]) == pos_a.shape[2] else y_max\n",
    "\n",
    "\n",
    "            input = mra_a[z_min:z_max,x_min:x_max,y_min:y_max]\n",
    "            input = torch.from_numpy(input)\n",
    "            output = model(input.unsqueeze(0).unsqueeze(0))[0][0]\n",
    "            final = output.detach().cpu().numpy()>0.5\n",
    "            pred[z_min:z_max,x_min:x_max,y_min:y_max]+=final\n",
    "\n",
    "    pred = np.clip(pred, 0, 1)\n",
    "    transposed_pred = np.transpose(pred, (1, 2, 0))\n",
    "    final_img = nib.Nifti1Image(transposed_pred, mra_nii.affine)\n",
    "    nib.save(final_img, f\"{path}\\\\{file}\\\\TOF_{file}_pred.nii.gz\")\n"
   ]
  }
 ],
 "metadata": {
  "kernelspec": {
   "display_name": "Python 3",
   "language": "python",
   "name": "python3"
  },
  "language_info": {
   "codemirror_mode": {
    "name": "ipython",
    "version": 3
   },
   "file_extension": ".py",
   "mimetype": "text/x-python",
   "name": "python",
   "nbconvert_exporter": "python",
   "pygments_lexer": "ipython3",
   "version": "3.10.11"
  },
  "orig_nbformat": 4
 },
 "nbformat": 4,
 "nbformat_minor": 2
}
